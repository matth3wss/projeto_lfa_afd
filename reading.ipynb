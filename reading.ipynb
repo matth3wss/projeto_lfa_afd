{
 "cells": [
  {
   "cell_type": "code",
   "execution_count": 321,
   "metadata": {},
   "outputs": [],
   "source": [
    "import finiteAutomata as lfa\n",
    "import csv\n",
    "import pandas as pd\n",
    "from collections import OrderedDict as od\n",
    "import string"
   ]
  },
  {
   "cell_type": "code",
   "execution_count": 322,
   "metadata": {},
   "outputs": [],
   "source": [
    "# this uses the ascii table of uppercase letters to create the states\n",
    "def check(state):\n",
    "    if state == 82:\n",
    "        state += 2\n",
    "    else:\n",
    "        state += 1\n",
    "    return state\n",
    "\n",
    "def read_csv(file_path):\n",
    "    try:\n",
    "        with open(file_path, newline='') as csvfile:\n",
    "            reader = csv.reader(csvfile)\n",
    "            lines = [line for line in reader if line]\n",
    "            print(lines)\n",
    "        return lines\n",
    "    except FileNotFoundError:\n",
    "        print(f'Arquivo {file_path} não encontrado.')\n",
    "        exit(1)\n",
    "\n",
    "def create_states(lines):\n",
    "    states = {}\n",
    "    initialState = 0\n",
    "    state = 64 \n",
    "    states['S'] = {}\n",
    "\n",
    "    for line in lines:\n",
    "        if line[0] != \"<\":\n",
    "            for char in line:\n",
    "                if not initialState:\n",
    "                    state = check(state)\n",
    "                    initialState = 1\n",
    "                    states['S'].setdefault(char, []).append(chr(state))\n",
    "                    states[chr(state)] = {}\n",
    "                else:\n",
    "                    state = check(state)\n",
    "                    if state == 84:\n",
    "                        states[chr(state - 2)].setdefault(char, []).append(chr(state))\n",
    "                    else:\n",
    "                        states[chr(state - 1)].setdefault(char, []).append(chr(state))\n",
    "                    states[chr(state)] = {}\n",
    "            initialState = 0\n",
    "        else:\n",
    "            rule = line.replace(' ::= ', ' | ').split(' | ')\n",
    "            input_state = 'S' if rule[0][1] == 'S' else chr(state)\n",
    "            createState = 0\n",
    "\n",
    "            for m in range(1, len(rule)):\n",
    "                if rule[m][0] != 'ε':\n",
    "                    if rule[0][1] != rule[m][2]:\n",
    "                        state = check(state)\n",
    "                        states[chr(state)] = {}\n",
    "                        createState = 1\n",
    "                    states[input_state].setdefault(rule[m][0], []).append(chr(state))\n",
    "                else:\n",
    "                    states[input_state].setdefault(None, []).append('ε')\n",
    "\n",
    "            if createState == 1:\n",
    "                state = check(state)\n",
    "                states[chr(state)] = {}\n",
    "\n",
    "    return states"
   ]
  },
  {
   "cell_type": "code",
   "execution_count": 323,
   "metadata": {},
   "outputs": [],
   "source": [
    "def extract_reserved_words(df):\n",
    "    \"\"\"\n",
    "    Extract reserved words from a dataframe\n",
    "    return: list of reserved words\n",
    "    \"\"\"\n",
    "    reserved_words = [row for row in df.values for char in row if char.islower() and char != \"<\"]\n",
    "    return reserved_words\n"
   ]
  },
  {
   "cell_type": "code",
   "execution_count": 324,
   "metadata": {},
   "outputs": [],
   "source": [
    "def extract_terminals(df):\n",
    "    \"\"\"\n",
    "    Extract terminals from a dataframe\n",
    "    return: list of terminals\n",
    "    \"\"\"\n",
    "    reserved_words = extract_reserved_words(df)\n",
    "    terminal_letters = [c for row in reserved_words for char in row for c in char]\n",
    "    return terminal_letters"
   ]
  },
  {
   "cell_type": "code",
   "execution_count": 325,
   "metadata": {},
   "outputs": [],
   "source": [
    "def unique_terminal_letters(df):\n",
    "    \"\"\"\n",
    "    Extract unique terminal letters from a dataframe\n",
    "    return: list of unique terminal letters\n",
    "    \"\"\"\n",
    "    terminal_letters = list(od.fromkeys((c for row in df.values for char in row for c in char if c.islower() and c != 'ε')))\n",
    "    return terminal_letters"
   ]
  },
  {
   "cell_type": "code",
   "execution_count": 326,
   "metadata": {},
   "outputs": [],
   "source": [
    "\n",
    "def populate_df(df):\n",
    "    \"\"\"\n",
    "    Populate a dataframe with the terminal letters as columns\n",
    "    return: dataframe\n",
    "    \"\"\"\n",
    "    terminal_letters = unique_terminal_letters(df)\n",
    "    df = pd.DataFrame(columns=['σ'] + [str(c) for c in terminal_letters])\n",
    "    return df\n",
    "    "
   ]
  },
  {
   "cell_type": "code",
   "execution_count": 327,
   "metadata": {},
   "outputs": [],
   "source": [
    "def create_symbols(state):\n",
    "    if state == 82:\n",
    "        state += 2\n",
    "    else:\n",
    "        state += 1\n",
    "    return state"
   ]
  },
  {
   "cell_type": "code",
   "execution_count": 328,
   "metadata": {},
   "outputs": [],
   "source": [
    "def create_afnd(df):\n",
    "    \"\"\"\n",
    "    Creates a NDFA from a dataframe\n",
    "    \n",
    "    \n",
    "    returns: a data structure of a NDFA\n",
    "    \"\"\"\n",
    "    if df[\"σ\"].notnull().iloc[0]:\n",
    "        # First cell of the \"σ\" column has a value\n",
    "        print(\"First cell of the σ column has a value\")\n",
    "    else:\n",
    "        # First cell of the \"σ\" column does not have a value\n",
    "        print(\"First cell of the σ column does not have a value\")\n",
    "                             \n",
    "                             "
   ]
  },
  {
   "cell_type": "code",
   "execution_count": 337,
   "metadata": {},
   "outputs": [
    {
     "name": "stdout",
     "output_type": "stream",
     "text": [
      "S\n"
     ]
    }
   ],
   "source": [
    "alphabet = list(string.ascii_uppercase)\n",
    "print(alphabet[18])\n"
   ]
  },
  {
   "cell_type": "code",
   "execution_count": 330,
   "metadata": {},
   "outputs": [
    {
     "data": {
      "text/html": [
       "<div>\n",
       "<style scoped>\n",
       "    .dataframe tbody tr th:only-of-type {\n",
       "        vertical-align: middle;\n",
       "    }\n",
       "\n",
       "    .dataframe tbody tr th {\n",
       "        vertical-align: top;\n",
       "    }\n",
       "\n",
       "    .dataframe thead th {\n",
       "        text-align: right;\n",
       "    }\n",
       "</style>\n",
       "<table border=\"1\" class=\"dataframe\">\n",
       "  <thead>\n",
       "    <tr style=\"text-align: right;\">\n",
       "      <th></th>\n",
       "      <th>σ</th>\n",
       "      <th>s</th>\n",
       "      <th>e</th>\n",
       "      <th>n</th>\n",
       "      <th>t</th>\n",
       "      <th>a</th>\n",
       "      <th>o</th>\n",
       "      <th>i</th>\n",
       "      <th>u</th>\n",
       "    </tr>\n",
       "  </thead>\n",
       "  <tbody>\n",
       "  </tbody>\n",
       "</table>\n",
       "</div>"
      ],
      "text/plain": [
       "Empty DataFrame\n",
       "Columns: [σ, s, e, n, t, a, o, i, u]\n",
       "Index: []"
      ]
     },
     "execution_count": 330,
     "metadata": {},
     "output_type": "execute_result"
    }
   ],
   "source": [
    "df = pd.read_csv('./entrada.csv',  header=None)\n",
    "df\n",
    "\n",
    "afnd = populate_df(df)\n",
    "afnd\n"
   ]
  },
  {
   "cell_type": "code",
   "execution_count": 331,
   "metadata": {},
   "outputs": [
    {
     "name": "stdout",
     "output_type": "stream",
     "text": [
      "[['se'], ['entao'], ['senao'], ['<S> ::= a<A> | e<A> | i<A> | o<A> | u<A>'], ['<A> ::= a<A> | e<A> | i<A> | o<A> | u<A> | Îµ']]\n",
      "Autômato Finito Não-Determinístico:\n",
      "\n",
      "A : {}\n",
      "B : {}\n",
      "C : {}\n",
      "D : {}\n",
      "E : {}\n",
      "S : {'se': ['A'], 'entao': ['B'], 'senao': ['C'], '<S> ::= a<A> | e<A> | i<A> | o<A> | u<A>': ['D'], '<A> ::= a<A> | e<A> | i<A> | o<A> | u<A> | Îµ': ['E']}\n",
      "Autômato determinizado\n",
      "A : {}\n",
      "B : {}\n",
      "C : {}\n",
      "D : {}\n",
      "E : {}\n",
      "S : {'se': ['A'], 'entao': ['B'], 'senao': ['C'], '<S> ::= a<A> | e<A> | i<A> | o<A> | u<A>': ['D'], '<A> ::= a<A> | e<A> | i<A> | o<A> | u<A> | Îµ': ['E']}\n"
     ]
    }
   ],
   "source": [
    "lines = read_csv(\"./entrada.csv\")\n",
    "automaton_states = create_states(lines)\n",
    "\n",
    "print(\"Autômato Finito Não-Determinístico:\\n\")\n",
    "lfa.orderedStates(automaton_states)\n",
    "lfa.determinize(automaton_states)\n",
    "print(\"Autômato determinizado\")\n",
    "lfa.orderedStates(automaton_states)"
   ]
  }
 ],
 "metadata": {
  "kernelspec": {
   "display_name": ".venv",
   "language": "python",
   "name": "python3"
  },
  "language_info": {
   "codemirror_mode": {
    "name": "ipython",
    "version": 3
   },
   "file_extension": ".py",
   "mimetype": "text/x-python",
   "name": "python",
   "nbconvert_exporter": "python",
   "pygments_lexer": "ipython3",
   "version": "3.12.1"
  }
 },
 "nbformat": 4,
 "nbformat_minor": 2
}
