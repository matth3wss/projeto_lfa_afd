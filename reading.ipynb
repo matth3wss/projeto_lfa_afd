{
 "cells": [
  {
   "cell_type": "code",
   "execution_count": 165,
   "metadata": {},
   "outputs": [],
   "source": [
    "import finiteAutomata as lfa\n",
    "import csv"
   ]
  },
  {
   "cell_type": "code",
   "execution_count": 166,
   "metadata": {},
   "outputs": [],
   "source": [
    "# this uses the ascii table of uppercase letters to create the states\n",
    "def check(state):\n",
    "    if state == 82:\n",
    "        state += 2\n",
    "    else:\n",
    "        state += 1\n",
    "    return state\n",
    "\n",
    "def read_csv(file_path):\n",
    "    try:\n",
    "        with open(file_path, newline='') as csvfile:\n",
    "            reader = csv.reader(csvfile)\n",
    "            lines = [line for line in reader if line]\n",
    "            print(lines)\n",
    "        return lines\n",
    "    except FileNotFoundError:\n",
    "        print(f'Arquivo {file_path} não encontrado.')\n",
    "        exit(1)\n",
    "\n",
    "def create_states(lines):\n",
    "    states = {}\n",
    "    initialState = 0\n",
    "    state = 64 \n",
    "    states['S'] = {}\n",
    "\n",
    "    for line in lines:\n",
    "        if line[0] != \"<\":\n",
    "            for char in line:\n",
    "                if not initialState:\n",
    "                    state = check(state)\n",
    "                    initialState = 1\n",
    "                    states['S'].setdefault(char, []).append(chr(state))\n",
    "                    states[chr(state)] = {}\n",
    "                else:\n",
    "                    state = check(state)\n",
    "                    if state == 84:\n",
    "                        states[chr(state - 2)].setdefault(char, []).append(chr(state))\n",
    "                    else:\n",
    "                        states[chr(state - 1)].setdefault(char, []).append(chr(state))\n",
    "                    states[chr(state)] = {}\n",
    "            initialState = 0\n",
    "        else:\n",
    "            rule = line.replace(' ::= ', ' | ').split(' | ')\n",
    "            input_state = 'S' if rule[0][1] == 'S' else chr(state)\n",
    "            createState = 0\n",
    "\n",
    "            for m in range(1, len(rule)):\n",
    "                if rule[m][0] != 'ε':\n",
    "                    if rule[0][1] != rule[m][2]:\n",
    "                        state = check(state)\n",
    "                        states[chr(state)] = {}\n",
    "                        createState = 1\n",
    "                    states[input_state].setdefault(rule[m][0], []).append(chr(state))\n",
    "                else:\n",
    "                    states[input_state].setdefault(None, []).append('ε')\n",
    "\n",
    "            if createState == 1:\n",
    "                state = check(state)\n",
    "                states[chr(state)] = {}\n",
    "\n",
    "    return states"
   ]
  },
  {
   "cell_type": "code",
   "execution_count": 167,
   "metadata": {},
   "outputs": [
    {
     "data": {
      "text/html": [
       "<div>\n",
       "<style scoped>\n",
       "    .dataframe tbody tr th:only-of-type {\n",
       "        vertical-align: middle;\n",
       "    }\n",
       "\n",
       "    .dataframe tbody tr th {\n",
       "        vertical-align: top;\n",
       "    }\n",
       "\n",
       "    .dataframe thead th {\n",
       "        text-align: right;\n",
       "    }\n",
       "</style>\n",
       "<table border=\"1\" class=\"dataframe\">\n",
       "  <thead>\n",
       "    <tr style=\"text-align: right;\">\n",
       "      <th></th>\n",
       "      <th>0</th>\n",
       "    </tr>\n",
       "  </thead>\n",
       "  <tbody>\n",
       "    <tr>\n",
       "      <th>0</th>\n",
       "      <td>se</td>\n",
       "    </tr>\n",
       "    <tr>\n",
       "      <th>1</th>\n",
       "      <td>entao</td>\n",
       "    </tr>\n",
       "    <tr>\n",
       "      <th>2</th>\n",
       "      <td>senao</td>\n",
       "    </tr>\n",
       "    <tr>\n",
       "      <th>3</th>\n",
       "      <td>;</td>\n",
       "    </tr>\n",
       "    <tr>\n",
       "      <th>4</th>\n",
       "      <td>&lt;S&gt; ::= a&lt;A&gt; | e&lt;A&gt; | i&lt;A&gt; | o&lt;A&gt; | u&lt;A&gt;</td>\n",
       "    </tr>\n",
       "    <tr>\n",
       "      <th>5</th>\n",
       "      <td>&lt;A&gt; ::= a&lt;A&gt; | e&lt;A&gt; | i&lt;A&gt; | o&lt;A&gt; | u&lt;A&gt; | ε</td>\n",
       "    </tr>\n",
       "  </tbody>\n",
       "</table>\n",
       "</div>"
      ],
      "text/plain": [
       "                                              0\n",
       "0                                            se\n",
       "1                                         entao\n",
       "2                                         senao\n",
       "3                                             ;\n",
       "4      <S> ::= a<A> | e<A> | i<A> | o<A> | u<A>\n",
       "5  <A> ::= a<A> | e<A> | i<A> | o<A> | u<A> | ε"
      ]
     },
     "execution_count": 167,
     "metadata": {},
     "output_type": "execute_result"
    }
   ],
   "source": [
    "import pandas as pd\n",
    " \n",
    "df = pd.read_csv('./entrada.csv',  header=None)\n",
    "df"
   ]
  },
  {
   "cell_type": "code",
   "execution_count": 168,
   "metadata": {},
   "outputs": [
    {
     "data": {
      "text/plain": [
       "['s', 'e', 'n', 't', 'a', 'o', 'i', 'u']"
      ]
     },
     "execution_count": 168,
     "metadata": {},
     "output_type": "execute_result"
    }
   ],
   "source": [
    "from collections import OrderedDict\n",
    "terminal_letters = []\n",
    "\n",
    "for row in df.values:\n",
    "    for char in row:\n",
    "        for c in char:\n",
    "            if c.islower() and c != 'ε':\n",
    "                terminal_letters.append(c)\n",
    "\n",
    "unique_letters = list(OrderedDict.fromkeys(terminal_letters))\n",
    "unique_letters"
   ]
  },
  {
   "cell_type": "code",
   "execution_count": 169,
   "metadata": {},
   "outputs": [],
   "source": [
    "afnd = pd.DataFrame(columns=unique_letters)\n",
    "\n",
    "afnd.insert(0, 'σ', check(64))\n",
    "afnd['σ'] = afnd['σ'].apply(lambda x: create_states(df.values), axis=1)\n"
   ]
  },
  {
   "cell_type": "code",
   "execution_count": 170,
   "metadata": {},
   "outputs": [
    {
     "data": {
      "text/html": [
       "<div>\n",
       "<style scoped>\n",
       "    .dataframe tbody tr th:only-of-type {\n",
       "        vertical-align: middle;\n",
       "    }\n",
       "\n",
       "    .dataframe tbody tr th {\n",
       "        vertical-align: top;\n",
       "    }\n",
       "\n",
       "    .dataframe thead th {\n",
       "        text-align: right;\n",
       "    }\n",
       "</style>\n",
       "<table border=\"1\" class=\"dataframe\">\n",
       "  <thead>\n",
       "    <tr style=\"text-align: right;\">\n",
       "      <th></th>\n",
       "      <th>σ</th>\n",
       "      <th>s</th>\n",
       "      <th>e</th>\n",
       "      <th>n</th>\n",
       "      <th>t</th>\n",
       "      <th>a</th>\n",
       "      <th>o</th>\n",
       "      <th>i</th>\n",
       "      <th>u</th>\n",
       "    </tr>\n",
       "  </thead>\n",
       "  <tbody>\n",
       "  </tbody>\n",
       "</table>\n",
       "</div>"
      ],
      "text/plain": [
       "Empty DataFrame\n",
       "Columns: [σ, s, e, n, t, a, o, i, u]\n",
       "Index: []"
      ]
     },
     "execution_count": 170,
     "metadata": {},
     "output_type": "execute_result"
    }
   ],
   "source": [
    "afnd"
   ]
  },
  {
   "cell_type": "code",
   "execution_count": 171,
   "metadata": {},
   "outputs": [
    {
     "name": "stdout",
     "output_type": "stream",
     "text": [
      "[['se'], ['entao'], ['senao'], [';'], ['<S> ::= a<A> | e<A> | i<A> | o<A> | u<A>'], ['<A> ::= a<A> | e<A> | i<A> | o<A> | u<A> | Îµ']]\n",
      "Autômato Finito Não-Determinístico:\n",
      "\n",
      "A : {}\n",
      "B : {}\n",
      "C : {}\n",
      "D : {}\n",
      "E : {}\n",
      "F : {}\n",
      "S : {'se': ['A'], 'entao': ['B'], 'senao': ['C'], ';': ['D'], '<S> ::= a<A> | e<A> | i<A> | o<A> | u<A>': ['E'], '<A> ::= a<A> | e<A> | i<A> | o<A> | u<A> | Îµ': ['F']}\n",
      "Autômato determinizado\n",
      "A : {}\n",
      "B : {}\n",
      "C : {}\n",
      "D : {}\n",
      "E : {}\n",
      "F : {}\n",
      "S : {'se': ['A'], 'entao': ['B'], 'senao': ['C'], ';': ['D'], '<S> ::= a<A> | e<A> | i<A> | o<A> | u<A>': ['E'], '<A> ::= a<A> | e<A> | i<A> | o<A> | u<A> | Îµ': ['F']}\n"
     ]
    }
   ],
   "source": [
    "lines = read_csv(\"./entrada.csv\")\n",
    "automaton_states = create_states(lines)\n",
    "\n",
    "print(\"Autômato Finito Não-Determinístico:\\n\")\n",
    "lfa.orderedStates(automaton_states)\n",
    "lfa.determinize(automaton_states)\n",
    "print(\"Autômato determinizado\")\n",
    "lfa.orderedStates(automaton_states)"
   ]
  }
 ],
 "metadata": {
  "kernelspec": {
   "display_name": ".venv",
   "language": "python",
   "name": "python3"
  },
  "language_info": {
   "codemirror_mode": {
    "name": "ipython",
    "version": 3
   },
   "file_extension": ".py",
   "mimetype": "text/x-python",
   "name": "python",
   "nbconvert_exporter": "python",
   "pygments_lexer": "ipython3",
   "version": "3.11.6"
  }
 },
 "nbformat": 4,
 "nbformat_minor": 2
}
